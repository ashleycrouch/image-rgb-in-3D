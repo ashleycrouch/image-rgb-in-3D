{
 "cells": [
  {
   "cell_type": "code",
   "execution_count": 39,
   "metadata": {},
   "outputs": [
    {
     "data": {
      "image/png": "[encoded data removed]",
      "text/plain": [
       "<Figure size 432x288 with 1 Axes>"
      ]
     },
     "metadata": {},
     "output_type": "display_data"
    }
   ],
   "source": [
    "import numpy as np\n",
    "import skimage.io\n",
    "import os\n",
    "import random\n",
    "from matplotlib import pylab\n",
    "import matplotlib.pyplot as plt\n",
    "from mpl_toolkits import mplot3d\n",
    "\n",
    "filename = 'C:/Users/Ashley/Documents/GitHub/image-rgb-in-3D/gradientbox.png'\n",
    "img = skimage.io.imread( filename )\n",
    "plt.imshow(img)\n",
    "\n",
    "height, width, depth = img.shape\n",
    "# print(img.shape)\n",
    "# np.meshgrid( width, height )\n",
    "# print(np.meshgrid(width, height))\n",
    "# imageArray = np.append( np.meshgrid( width, height ), img )\n",
    "# print(imageArray)\n",
    "\n",
    "\n",
    "heightAr = list(range(0, height))\n",
    "# print(heightAr)\n",
    "widthAr = list(range(0, width))\n",
    "# print(widthAr)\n",
    "meshGrid = np.meshgrid(widthAr, heightAr)\n",
    "imageArray = np.concatenate((meshGrid[0][:, :, None], meshGrid[1][:, :, None], img), axis = 2)\n",
    "# print(imageArray[0, 2])\n",
    "# print(imageArray.shape)\n",
    "\n",
    "# reshaped is the input for the plane-fitting\n",
    "reshaped = imageArray.reshape(width * height, -1)\n",
    "# print(reshaped)\n",
    "\n",
    "# prints out the channel that is wanted with the xy coordinates\n",
    "def getChannel(imageArray, channel):\n",
    "    xyc = [0, 1, channel]\n",
    "    return imageArray[:, xyc]\n",
    "\n",
    "# channel constants\n",
    "r = 2\n",
    "g = 3\n",
    "b = 4\n",
    "a = 5"
   ]
  },
  {
   "cell_type": "code",
   "execution_count": 56,
   "metadata": {},
   "outputs": [
    {
     "name": "stdout",
     "output_type": "stream",
     "text": [
      "[[[0. 0. 0.]\n",
      "  [0. 0. 0.]\n",
      "  [0. 0. 0.]]\n",
      "\n",
      " [[0. 0. 0.]\n",
      "  [0. 0. 0.]\n",
      "  [0. 0. 0.]]\n",
      "\n",
      " [[0. 0. 0.]\n",
      "  [0. 0. 0.]\n",
      "  [0. 0. 0.]]]\n"
     ]
    }
   ],
   "source": [
    "# create empty 3D array for A, B, C\n",
    "ABC = np.zeros([3, 3, 3]) # probably need to change the size\n",
    "print(ABC)\n",
    "\n",
    "\n",
    "# f(x,y) = Ax + By + C\n",
    "#xyc is a pixel with xy coordinates and one channel (r, g, b, or a)\n",
    "# used for finding the error of the individual point/channel\n",
    "def checkPlane(xyc, model): # [x, y, c] \n",
    "#     f(x,y) = Ax + By + C = [x1, y1, 1] * [A, B, C]T\n",
    "    p = [xyc[0], xyc[1], 1]\n",
    "#     unk = numpy.array([A, B, C])\n",
    "    return xyc[2] - numpy.dot(p, model.transpose()) # c - Ax + By + C\n",
    "\n",
    "\n",
    "\n",
    "# iterate through the picture\n",
    "for x in range(0, len(widthAr)):\n",
    "    for y in range(0, len(heightAr)):\n",
    "        neighbors = []\n",
    "        topLeft = (x - 1, y - 1)\n",
    "        neighbors.append(topLeft)\n",
    "        topMid = (x, y - 1)\n",
    "        neighbors.append(topMid)\n",
    "        topRight = (x + 1, y - 1)\n",
    "        neighbors.append(topRight)\n",
    "        left = (x - 1, y)\n",
    "        neighbors.append(left)\n",
    "        right = (x + 1, y)\n",
    "        neighbors.append(right)\n",
    "        botLeft = (x + 1, y + 1)\n",
    "        neighbors.append(botLeft)\n",
    "        botMid = (x + 1, y + 1)\n",
    "        neighbors.append(botMid)\n",
    "        botRight = (x + 1, y + 1)\n",
    "        neighbors.append(botRight)\n",
    "#         print(neighbors)\n",
    "#             print(\"Set topLeft to null?\")\n",
    "        if all(i < (0, 0) for i in neighbors):\n",
    "            print(\"Set topLeft to null?\")\n",
    "#         if topLeft in getChannel(reshaped, r):\n",
    "#             print(getChannel(reshaped, r)[topLeft])\n",
    "#             print(x, y)\n",
    "# find the A, B, C variables that the point finds based on its neighbors\n"
   ]
  },
  {
   "cell_type": "code",
   "execution_count": null,
   "metadata": {},
   "outputs": [],
   "source": []
  },
  {
   "cell_type": "code",
   "execution_count": null,
   "metadata": {},
   "outputs": [],
   "source": []
  }
 ],
 "metadata": {
  "kernelspec": {
   "display_name": "Python 3",
   "language": "python",
   "name": "python3"
  },
  "language_info": {
   "codemirror_mode": {
    "name": "ipython",
    "version": 3
   },
   "file_extension": ".py",
   "mimetype": "text/x-python",
   "name": "python",
   "nbconvert_exporter": "python",
   "pygments_lexer": "ipython3",
   "version": "3.6.5"
  }
 },
 "nbformat": 4,
 "nbformat_minor": 2
}
