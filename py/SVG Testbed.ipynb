{
 "cells": [
  {
   "cell_type": "code",
   "execution_count": null,
   "metadata": {},
   "outputs": [],
   "source": []
  },
  {
   "cell_type": "code",
   "execution_count": 16,
   "metadata": {},
   "outputs": [
    {
     "data": {
      "image/svg+xml": [
       "<svg height=\"650\" viewBox=\"0 0 7410 3900\" width=\"1235\" xmlns=\"http://www.w3.org/2000/svg\" xmlns:xlink=\"http://www.w3.org/1999/xlink\">\n",
       "<rect fill=\"#b22234\" height=\"3900\" width=\"7410\"/>\n",
       "<path d=\"M0,450H7410m0,600H0m0,600H7410m0,600H0m0,600H7410m0,600H0\" stroke=\"#fff\" stroke-width=\"300\"/>\n",
       "<rect fill=\"#3c3b6e\" height=\"2100\" width=\"2964\"/>\n",
       "<g fill=\"#fff\">\n",
       "<g id=\"s18\">\n",
       "<g id=\"s9\">\n",
       "<g id=\"s5\">\n",
       "<g id=\"s4\">\n",
       "<path d=\"M247,90 317.534230,307.082039 132.873218,172.917961H361.126782L176.465770,307.082039z\" id=\"s\"/>\n",
       "<use xlink:href=\"#s\" y=\"420\"/>\n",
       "<use xlink:href=\"#s\" y=\"840\"/>\n",
       "<use xlink:href=\"#s\" y=\"1260\"/>\n",
       "</g>\n",
       "<use xlink:href=\"#s\" y=\"1680\"/>\n",
       "</g>\n",
       "<use x=\"247\" xlink:href=\"#s4\" y=\"210\"/>\n",
       "</g>\n",
       "<use x=\"494\" xlink:href=\"#s9\"/>\n",
       "</g>\n",
       "<use x=\"988\" xlink:href=\"#s18\"/>\n",
       "<use x=\"1976\" xlink:href=\"#s9\"/>\n",
       "<use x=\"2470\" xlink:href=\"#s5\"/>\n",
       "</g>\n",
       "</svg>"
      ],
      "text/plain": [
       "<IPython.core.display.SVG object>"
      ]
     },
     "metadata": {},
     "output_type": "display_data"
    },
    {
     "ename": "NameError",
     "evalue": "name '_repr_svg_' is not defined",
     "output_type": "error",
     "traceback": [
      "\u001b[1;31m---------------------------------------------------------------------------\u001b[0m",
      "\u001b[1;31mNameError\u001b[0m                                 Traceback (most recent call last)",
      "\u001b[1;32m<ipython-input-16-d168d28a3deb>\u001b[0m in \u001b[0;36m<module>\u001b[1;34m()\u001b[0m\n\u001b[0;32m      9\u001b[0m \u001b[1;33m\u001b[0m\u001b[0m\n\u001b[0;32m     10\u001b[0m \u001b[0mdisplay\u001b[0m\u001b[1;33m(\u001b[0m\u001b[0msvg\u001b[0m\u001b[1;33m)\u001b[0m\u001b[1;33m\u001b[0m\u001b[0m\n\u001b[1;32m---> 11\u001b[1;33m \u001b[0mdisplay\u001b[0m\u001b[1;33m(\u001b[0m\u001b[0m_repr_svg_\u001b[0m\u001b[1;33m(\u001b[0m\u001b[0msvg\u001b[0m\u001b[1;33m)\u001b[0m\u001b[1;33m)\u001b[0m\u001b[1;33m\u001b[0m\u001b[0m\n\u001b[0m",
      "\u001b[1;31mNameError\u001b[0m: name '_repr_svg_' is not defined"
     ]
    }
   ],
   "source": [
    "from IPython.display import SVG\n",
    "def show_svg(url):\n",
    "    global svg \n",
    "    svg = SVG(url)\n",
    "    return svg\n",
    "\n",
    "def makeRAW(self)\n",
    "    return _repr_(self)\n",
    "\n",
    "site = 'http://upload.wikimedia.org/wikipedia/en/a/a4/Flag_of_the_United_States.svg' \n",
    "show_svg(site)\n",
    "\n",
    "display(svg)\n"
   ]
  },
  {
   "cell_type": "code",
   "execution_count": 26,
   "metadata": {},
   "outputs": [
    {
     "name": "stdout",
     "output_type": "stream",
     "text": [
      "<IPython.core.display.SVG object>\n"
     ]
    },
    {
     "ename": "AttributeError",
     "evalue": "'SVG' object has no attribute 'text'",
     "output_type": "error",
     "traceback": [
      "\u001b[1;31m---------------------------------------------------------------------------\u001b[0m",
      "\u001b[1;31mAttributeError\u001b[0m                            Traceback (most recent call last)",
      "\u001b[1;32m<ipython-input-26-580eb123d39e>\u001b[0m in \u001b[0;36m<module>\u001b[1;34m()\u001b[0m\n\u001b[0;32m      1\u001b[0m \u001b[0mprint\u001b[0m\u001b[1;33m(\u001b[0m\u001b[0msvg\u001b[0m\u001b[1;33m)\u001b[0m\u001b[1;33m\u001b[0m\u001b[0m\n\u001b[1;32m----> 2\u001b[1;33m \u001b[0msvg\u001b[0m\u001b[1;33m.\u001b[0m\u001b[0mtext\u001b[0m\u001b[1;33m\u001b[0m\u001b[0m\n\u001b[0m",
      "\u001b[1;31mAttributeError\u001b[0m: 'SVG' object has no attribute 'text'"
     ]
    }
   ],
   "source": [
    "print(svg)\n",
    "# svg.text"
   ]
  },
  {
   "cell_type": "code",
   "execution_count": 27,
   "metadata": {},
   "outputs": [
    {
     "data": {
      "application/json": {
       "cell": {
        "!": "OSMagics",
        "HTML": "Other",
        "SVG": "Other",
        "bash": "Other",
        "capture": "ExecutionMagics",
        "cmd": "Other",
        "debug": "ExecutionMagics",
        "file": "Other",
        "html": "DisplayMagics",
        "javascript": "DisplayMagics",
        "js": "DisplayMagics",
        "latex": "DisplayMagics",
        "markdown": "DisplayMagics",
        "perl": "Other",
        "prun": "ExecutionMagics",
        "pypy": "Other",
        "python": "Other",
        "python2": "Other",
        "python3": "Other",
        "ruby": "Other",
        "script": "ScriptMagics",
        "sh": "Other",
        "svg": "DisplayMagics",
        "sx": "OSMagics",
        "system": "OSMagics",
        "time": "ExecutionMagics",
        "timeit": "ExecutionMagics",
        "writefile": "OSMagics"
       },
       "line": {
        "alias": "OSMagics",
        "alias_magic": "BasicMagics",
        "autocall": "AutoMagics",
        "automagic": "AutoMagics",
        "autosave": "KernelMagics",
        "bookmark": "OSMagics",
        "cd": "OSMagics",
        "clear": "KernelMagics",
        "cls": "KernelMagics",
        "colors": "BasicMagics",
        "config": "ConfigMagics",
        "connect_info": "KernelMagics",
        "copy": "Other",
        "ddir": "Other",
        "debug": "ExecutionMagics",
        "dhist": "OSMagics",
        "dirs": "OSMagics",
        "doctest_mode": "BasicMagics",
        "echo": "Other",
        "ed": "Other",
        "edit": "KernelMagics",
        "env": "OSMagics",
        "gui": "BasicMagics",
        "hist": "Other",
        "history": "HistoryMagics",
        "killbgscripts": "ScriptMagics",
        "ldir": "Other",
        "less": "KernelMagics",
        "load": "CodeMagics",
        "load_ext": "ExtensionMagics",
        "loadpy": "CodeMagics",
        "logoff": "LoggingMagics",
        "logon": "LoggingMagics",
        "logstart": "LoggingMagics",
        "logstate": "LoggingMagics",
        "logstop": "LoggingMagics",
        "ls": "Other",
        "lsmagic": "BasicMagics",
        "macro": "ExecutionMagics",
        "magic": "BasicMagics",
        "matplotlib": "PylabMagics",
        "mkdir": "Other",
        "more": "KernelMagics",
        "notebook": "BasicMagics",
        "page": "BasicMagics",
        "pastebin": "CodeMagics",
        "pdb": "ExecutionMagics",
        "pdef": "NamespaceMagics",
        "pdoc": "NamespaceMagics",
        "pfile": "NamespaceMagics",
        "pinfo": "NamespaceMagics",
        "pinfo2": "NamespaceMagics",
        "pip": "BasicMagics",
        "popd": "OSMagics",
        "pprint": "BasicMagics",
        "precision": "BasicMagics",
        "profile": "BasicMagics",
        "prun": "ExecutionMagics",
        "psearch": "NamespaceMagics",
        "psource": "NamespaceMagics",
        "pushd": "OSMagics",
        "pwd": "OSMagics",
        "pycat": "OSMagics",
        "pylab": "PylabMagics",
        "qtconsole": "KernelMagics",
        "quickref": "BasicMagics",
        "recall": "HistoryMagics",
        "rehashx": "OSMagics",
        "reload_ext": "ExtensionMagics",
        "ren": "Other",
        "rep": "Other",
        "rerun": "HistoryMagics",
        "reset": "NamespaceMagics",
        "reset_selective": "NamespaceMagics",
        "rmdir": "Other",
        "run": "ExecutionMagics",
        "save": "CodeMagics",
        "sc": "OSMagics",
        "set_env": "OSMagics",
        "store": "StoreMagics",
        "sx": "OSMagics",
        "system": "OSMagics",
        "tb": "ExecutionMagics",
        "time": "ExecutionMagics",
        "timeit": "ExecutionMagics",
        "unalias": "OSMagics",
        "unload_ext": "ExtensionMagics",
        "who": "NamespaceMagics",
        "who_ls": "NamespaceMagics",
        "whos": "NamespaceMagics",
        "xdel": "NamespaceMagics",
        "xmode": "BasicMagics"
       }
      },
      "text/plain": [
       "Available line magics:\n",
       "%alias  %alias_magic  %autocall  %automagic  %autosave  %bookmark  %cd  %clear  %cls  %colors  %config  %connect_info  %copy  %ddir  %debug  %dhist  %dirs  %doctest_mode  %echo  %ed  %edit  %env  %gui  %hist  %history  %killbgscripts  %ldir  %less  %load  %load_ext  %loadpy  %logoff  %logon  %logstart  %logstate  %logstop  %ls  %lsmagic  %macro  %magic  %matplotlib  %mkdir  %more  %notebook  %page  %pastebin  %pdb  %pdef  %pdoc  %pfile  %pinfo  %pinfo2  %popd  %pprint  %precision  %profile  %prun  %psearch  %psource  %pushd  %pwd  %pycat  %pylab  %qtconsole  %quickref  %recall  %rehashx  %reload_ext  %ren  %rep  %rerun  %reset  %reset_selective  %rmdir  %run  %save  %sc  %set_env  %store  %sx  %system  %tb  %time  %timeit  %unalias  %unload_ext  %who  %who_ls  %whos  %xdel  %xmode\n",
       "\n",
       "Available cell magics:\n",
       "%%!  %%HTML  %%SVG  %%bash  %%capture  %%cmd  %%debug  %%file  %%html  %%javascript  %%js  %%latex  %%markdown  %%perl  %%prun  %%pypy  %%python  %%python2  %%python3  %%ruby  %%script  %%sh  %%svg  %%sx  %%system  %%time  %%timeit  %%writefile\n",
       "\n",
       "Automagic is ON, % prefix IS NOT needed for line magics."
      ]
     },
     "execution_count": 27,
     "metadata": {},
     "output_type": "execute_result"
    }
   ],
   "source": [
    "%lsmagic"
   ]
  },
  {
   "cell_type": "code",
   "execution_count": 49,
   "metadata": {},
   "outputs": [
    {
     "data": {
      "image/svg+xml": [
       "<svg height=\"650\" viewBox=\"0 0 7410 3900\" width=\"1235\" xmlns=\"http://www.w3.org/2000/svg\" xmlns:xlink=\"http://www.w3.org/1999/xlink\">\n",
       "<rect fill=\"#b22234\" height=\"3900\" width=\"7410\"/>\n",
       "<path d=\"M0,450H7410m0,600H0m0,600H7410m0,600H0m0,600H7410m0,600H0\" stroke=\"#fff9\" stroke-width=\"300\"/>\n",
       "<rect fill=\"#3c3b6e\" height=\"2100\" width=\"2964\"/>\n",
       "<g fill=\"#fff9\">\n",
       "<g id=\"s18\">\n",
       "<g id=\"s9\">\n",
       "<g id=\"s5\">\n",
       "<g id=\"s4\">\n",
       "<path d=\"M247,90 317.534230,307.082039 132.873218,172.917961H361.126782L176.465770,307.082039z\" id=\"s\"/>\n",
       "<use xlink:href=\"#s\" y=\"420\"/>\n",
       "<use xlink:href=\"#s\" y=\"840\"/>\n",
       "<use xlink:href=\"#s\" y=\"1260\"/>\n",
       "</g>\n",
       "<use xlink:href=\"#s\" y=\"1680\"/>\n",
       "</g>\n",
       "<use x=\"247\" xlink:href=\"#s4\" y=\"210\"/>\n",
       "</g>\n",
       "<use x=\"494\" xlink:href=\"#s9\"/>\n",
       "</g>\n",
       "<use x=\"988\" xlink:href=\"#s18\"/>\n",
       "<use x=\"1976\" xlink:href=\"#s9\"/>\n",
       "<use x=\"2470\" xlink:href=\"#s5\"/>\n",
       "</g>\n",
       "</svg>"
      ],
      "text/plain": [
       "<IPython.core.display.SVG object>"
      ]
     },
     "metadata": {},
     "output_type": "display_data"
    }
   ],
   "source": [
    "%%SVG\n",
    "<?xml version=\"1.0\" encoding=\"UTF-8\"?>\n",
    "<svg xmlns=\"http://www.w3.org/2000/svg\" xmlns:xlink=\"http://www.w3.org/1999/xlink\" width=\"1235\" height=\"650\" viewBox=\"0 0 7410 3900\">\n",
    "<rect width=\"7410\" height=\"3900\" fill=\"#b22234\"/>\n",
    "<path d=\"M0,450H7410m0,600H0m0,600H7410m0,600H0m0,600H7410m0,600H0\" stroke=\"#fff9\" stroke-width=\"300\"/>\n",
    "<rect width=\"2964\" height=\"2100\" fill=\"#3c3b6e\"/>\n",
    "<g fill=\"#fff9\">\n",
    "<g id=\"s18\">\n",
    "<g id=\"s9\">\n",
    "<g id=\"s5\">\n",
    "<g id=\"s4\">\n",
    "<path id=\"s\" d=\"M247,90 317.534230,307.082039 132.873218,172.917961H361.126782L176.465770,307.082039z\"/>\n",
    "<use xlink:href=\"#s\" y=\"420\"/>\n",
    "<use xlink:href=\"#s\" y=\"840\"/>\n",
    "<use xlink:href=\"#s\" y=\"1260\"/>\n",
    "</g>\n",
    "<use xlink:href=\"#s\" y=\"1680\"/>\n",
    "</g>\n",
    "<use xlink:href=\"#s4\" x=\"247\" y=\"210\"/>\n",
    "</g>\n",
    "<use xlink:href=\"#s9\" x=\"494\"/>\n",
    "</g>\n",
    "<use xlink:href=\"#s18\" x=\"988\"/>\n",
    "<use xlink:href=\"#s9\" x=\"1976\"/>\n",
    "<use xlink:href=\"#s5\" x=\"2470\"/>\n",
    "</g>\n",
    "</svg>"
   ]
  },
  {
   "cell_type": "code",
   "execution_count": 76,
   "metadata": {},
   "outputs": [
    {
     "data": {
      "image/svg+xml": [
       "<svg height=\"150\" width=\"400\">\n",
       "  <defs>\n",
       "    <linearGradient id=\"grad3\" x1=\"0%\" x2=\"100%\" y1=\"0%\" y2=\"0%\">\n",
       "      <stop offset=\"0%\" style=\"stop-color:rgb(255,255,0);stop-opacity:1\"/>\n",
       "      <stop offset=\"100%\" style=\"stop-color:rgb(255,0,0);stop-opacity:1\"/>\n",
       "    </linearGradient>\n",
       "  </defs>\n",
       "  <rect fill=\"#ddd\" height=\"3900\" width=\"7410\"/>\n",
       "  <ellipse cx=\"200\" cy=\"70\" fill=\"url(#grad3)\" rx=\"85\" ry=\"55\"/>\n",
       "  <text fill=\"#ffffffd0\" font-family=\"Verdana\" font-size=\"45\" x=\"150\" y=\"86\">\n",
       "  SVG</text>\n",
       "</svg>"
      ],
      "text/plain": [
       "<IPython.core.display.SVG object>"
      ]
     },
     "metadata": {},
     "output_type": "display_data"
    }
   ],
   "source": [
    "%%SVG\n",
    "<svg height=\"150\" width=\"400\">\n",
    "  <defs>\n",
    "    <linearGradient id=\"grad3\" x1=\"0%\" y1=\"0%\" x2=\"100%\" y2=\"0%\">\n",
    "      <stop offset=\"0%\" style=\"stop-color:rgb(255,255,0);stop-opacity:1\" />\n",
    "      <stop offset=\"100%\" style=\"stop-color:rgb(255,0,0);stop-opacity:1\" />\n",
    "    </linearGradient>\n",
    "  </defs>\n",
    "  <rect width=\"7410\" height=\"3900\" fill=\"#ddd\"/>\n",
    "  <ellipse cx=\"200\" cy=\"70\" rx=\"85\" ry=\"55\" fill=\"url(#grad3)\" />\n",
    "  <text fill=\"#ffffffd0\" font-size=\"45\" font-family=\"Verdana\" x=\"150\" y=\"86\">\n",
    "  SVG</text>\n",
    "</svg>"
   ]
  },
  {
   "cell_type": "code",
   "execution_count": null,
   "metadata": {},
   "outputs": [],
   "source": [
    "import requests\n",
    "from lxml import html"
   ]
  },
  {
   "cell_type": "code",
   "execution_count": 25,
   "metadata": {},
   "outputs": [
    {
     "ename": "TypeError",
     "evalue": "a bytes-like object is required, not 'SVG'",
     "output_type": "error",
     "traceback": [
      "\u001b[1;31m---------------------------------------------------------------------------\u001b[0m",
      "\u001b[1;31mTypeError\u001b[0m                                 Traceback (most recent call last)",
      "\u001b[1;32m<ipython-input-25-d359a3f0bc4a>\u001b[0m in \u001b[0;36m<module>\u001b[1;34m()\u001b[0m\n\u001b[0;32m     29\u001b[0m \u001b[1;31m# ...   </b>\u001b[0m\u001b[1;33m\u001b[0m\u001b[1;33m\u001b[0m\u001b[0m\n\u001b[0;32m     30\u001b[0m \u001b[1;31m# ... </a>\"\"\"\u001b[0m\u001b[1;33m\u001b[0m\u001b[1;33m\u001b[0m\u001b[0m\n\u001b[1;32m---> 31\u001b[1;33m \u001b[0mparser\u001b[0m\u001b[1;33m.\u001b[0m\u001b[0mfeed\u001b[0m\u001b[1;33m(\u001b[0m\u001b[0mexampleXml\u001b[0m\u001b[1;33m)\u001b[0m\u001b[1;33m\u001b[0m\u001b[0m\n\u001b[0m\u001b[0;32m     32\u001b[0m \u001b[0mparser\u001b[0m\u001b[1;33m.\u001b[0m\u001b[0mclose\u001b[0m\u001b[1;33m(\u001b[0m\u001b[1;33m)\u001b[0m\u001b[1;33m\u001b[0m\u001b[0m\n",
      "\u001b[1;31mTypeError\u001b[0m: a bytes-like object is required, not 'SVG'"
     ]
    }
   ],
   "source": [
    ">>> from xml.etree.ElementTree import XMLParser\n",
    ">>> class MaxDepth:                     # The target object of the parser\n",
    "...     maxDepth = 0\n",
    "...     depth = 0\n",
    "...     def start(self, tag, attrib):   # Called for each opening tag.\n",
    "...         self.depth += 1\n",
    "...         if self.depth > self.maxDepth:\n",
    "...             self.maxDepth = self.depth\n",
    "...     def end(self, tag):             # Called for each closing tag.\n",
    "...         self.depth -= 1\n",
    "...     def data(self, data):\n",
    "...         pass            # We do not need to do anything with data.\n",
    "...     def close(self):    # Called when all data has been parsed.\n",
    "...         return self.maxDepth\n",
    "...\n",
    ">>> target = MaxDepth()\n",
    ">>> parser = XMLParser(target=target)\n",
    ">>> exampleXml = svg\n",
    "\n",
    "# >>> exampleXml = \"\"\"\n",
    "# ... <a>\n",
    "# ...   <b>\n",
    "# ...   </b>\n",
    "# ...   <b>\n",
    "# ...     <c>\n",
    "# ...       <d>\n",
    "# ...       </d>\n",
    "# ...     </c>\n",
    "# ...   </b>\n",
    "# ... </a>\"\"\"\n",
    ">>> parser.feed(exampleXml)\n",
    ">>> parser.close()"
   ]
  }
 ],
 "metadata": {
  "kernelspec": {
   "display_name": "Python 3",
   "language": "python",
   "name": "python3"
  },
  "language_info": {
   "codemirror_mode": {
    "name": "ipython",
    "version": 3
   },
   "file_extension": ".py",
   "mimetype": "text/x-python",
   "name": "python",
   "nbconvert_exporter": "python",
   "pygments_lexer": "ipython3",
   "version": "3.6.5"
  }
 },
 "nbformat": 4,
 "nbformat_minor": 2
}
